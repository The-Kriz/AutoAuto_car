{
 "cells": [
  {
   "cell_type": "code",
   "execution_count": 1,
   "id": "171abf9a",
   "metadata": {},
   "outputs": [
    {
     "ename": "ModuleNotFoundError",
     "evalue": "No module named 'car'",
     "output_type": "error",
     "traceback": [
      "\u001b[1;31m---------------------------------------------------------------------------\u001b[0m",
      "\u001b[1;31mModuleNotFoundError\u001b[0m                       Traceback (most recent call last)",
      "Input \u001b[1;32mIn [1]\u001b[0m, in \u001b[0;36m<cell line: 1>\u001b[1;34m()\u001b[0m\n\u001b[1;32m----> 1\u001b[0m \u001b[38;5;28;01mimport\u001b[39;00m \u001b[38;5;21;01mcar\u001b[39;00m\n\u001b[0;32m      2\u001b[0m \u001b[38;5;28;01mfrom\u001b[39;00m \u001b[38;5;21;01mauto\u001b[39;00m \u001b[38;5;28;01mimport\u001b[39;00m console\n",
      "\u001b[1;31mModuleNotFoundError\u001b[0m: No module named 'car'"
     ]
    }
   ],
   "source": [
    "import car\n",
    "from auto import console"
   ]
  },
  {
   "cell_type": "code",
   "execution_count": null,
   "id": "0dfad27c",
   "metadata": {},
   "outputs": [],
   "source": [
    " while True:\n",
    "    frame = car.capture()\n",
    "    car.plot(frame)\n",
    "    car.stream(frame, to_console=True)\n",
    "    if(car.detect_pedestrians(frame)):\n",
    "        car.honk()\n",
    "    if(car.detect_stop_signs(frame)):\n",
    "        d=1\n",
    "    else:\n",
    "        d=0\n",
    "    %store d\n",
    "#         console.print(\"Oops!, a STOP Sign!\")\n",
    "#         console.print(\"Now i cant go!\")"
   ]
  }
 ],
 "metadata": {
  "kernelspec": {
   "display_name": "Python 3 (ipykernel)",
   "language": "python",
   "name": "python3"
  },
  "language_info": {
   "codemirror_mode": {
    "name": "ipython",
    "version": 3
   },
   "file_extension": ".py",
   "mimetype": "text/x-python",
   "name": "python",
   "nbconvert_exporter": "python",
   "pygments_lexer": "ipython3",
   "version": "3.9.12"
  }
 },
 "nbformat": 4,
 "nbformat_minor": 5
}
