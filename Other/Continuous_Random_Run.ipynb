{
 "cells": [
  {
   "cell_type": "code",
   "execution_count": 13,
   "metadata": {},
   "outputs": [],
   "source": [
    "from car import motors\n",
    "import time"
   ]
  },
  {
   "cell_type": "code",
   "execution_count": 14,
   "metadata": {},
   "outputs": [],
   "source": [
    "throttle = 20\n",
    "def forward(throttle):\n",
    "    i = 0\n",
    "    for i in range(10):\n",
    "        motors.set_steering(0)\n",
    "        motors.set_throttle(throttle)\n",
    "        i = i + 1\n",
    "        time.sleep(0.1)\n",
    "\n",
    "def reverse(throttle):\n",
    "    i = 0\n",
    "    for i in range(10):\n",
    "        motors.set_steering(0)\n",
    "        motors.set_throttle(-throttle)\n",
    "        i = i + 1\n",
    "        time.sleep(0.1)\n",
    "        \n",
    "def right_forward(throttle):\n",
    "    i = 0\n",
    "    for i in range(10):\n",
    "        motors.set_steering(-30)\n",
    "        motors.set_throttle(throttle)\n",
    "        i = i + 1\n",
    "        time.sleep(0.1)\n",
    "        \n",
    "def left_forward(throttle):\n",
    "    i = 0\n",
    "    for i in range(10):\n",
    "        motors.set_steering(30)\n",
    "        motors.set_throttle(throttle)\n",
    "        i = i + 1\n",
    "        time.sleep(0.1)\n",
    "        \n",
    "def right_reverse(throttle):\n",
    "    i = 0\n",
    "    for i in range(10):\n",
    "        motors.set_steering(-30)\n",
    "        motors.set_throttle(-throttle)\n",
    "        i = i + 1\n",
    "        time.sleep(0.1)\n",
    "        \n",
    "def left_reverse(throttle):\n",
    "    i = 0\n",
    "    for i in range(10):\n",
    "        motors.set_steering(30)\n",
    "        motors.set_throttle(-throttle)\n",
    "        i = i + 1\n",
    "        time.sleep(0.1)"
   ]
  },
  {
   "cell_type": "code",
   "execution_count": 1,
   "metadata": {},
   "outputs": [],
   "source": [
    "def numbers_to_strings(argument):\n",
    "    switcher = {\n",
    "        0: forward(throttle),\n",
    "        1: reverse(throttle),\n",
    "        2: right_forward(throttle),\n",
    "        3: left_forward(throttle),\n",
    "        4: right_reverse(throttle),\n",
    "        5: left_reverse(throttle),\n",
    "    }\n",
    " "
   ]
  },
  {
   "cell_type": "code",
   "execution_count": null,
   "metadata": {},
   "outputs": [],
   "source": [
    "import random\n",
    "Done = False\n",
    "count = 4\n",
    "while not Done:\n",
    "    random.randint(0,5)\n",
    "    count -= 1\n",
    "    if count == 0 :\n",
    "        Done = True"
   ]
  }
 ],
 "metadata": {
  "kernelspec": {
   "display_name": "Python 3.9.13 64-bit (microsoft store)",
   "language": "python",
   "name": "python3"
  },
  "language_info": {
   "codemirror_mode": {
    "name": "ipython",
    "version": 3
   },
   "file_extension": ".py",
   "mimetype": "text/x-python",
   "name": "python",
   "nbconvert_exporter": "python",
   "pygments_lexer": "ipython3",
   "version": "3.9.13"
  },
  "vscode": {
   "interpreter": {
    "hash": "bc557b74f5c7d96f3a4fff2167a95a4252e316909755ef10c67da981ac2e9136"
   }
  }
 },
 "nbformat": 4,
 "nbformat_minor": 2
}
