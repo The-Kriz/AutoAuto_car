{
 "cells": [
  {
   "cell_type": "code",
   "execution_count": 13,
   "metadata": {},
   "outputs": [],
   "source": [
    "from car import motors\n",
    "import time"
   ]
  },
  {
   "cell_type": "code",
   "execution_count": null,
   "metadata": {},
   "outputs": [],
   "source": [
    "ip = \"192.168.193.104\""
   ]
  },
  {
   "cell_type": "code",
   "execution_count": 14,
   "metadata": {},
   "outputs": [],
   "source": [
    "throttle = 25\n",
    "def forward(throttle):\n",
    "    motors.set_steering(0)\n",
    "    motors.set_throttle(throttle)\n",
    "    time.sleep(0.1)\n",
    "\n",
    "def reverse(throttle):\n",
    "    motors.set_steering(0)\n",
    "    motors.set_throttle(-throttle)\n",
    "    time.sleep(0.1)\n",
    "        \n",
    "def right_forward(throttle):\n",
    "    motors.set_steering(-30)\n",
    "    motors.set_throttle(throttle)\n",
    "    time.sleep(0.1)\n",
    "        \n",
    "def left_forward(throttle):\n",
    "    motors.set_steering(30)\n",
    "    motors.set_throttle(throttle)\n",
    "    time.sleep(0.1)\n",
    "        "
   ]
  },
  {
   "cell_type": "code",
   "execution_count": null,
   "metadata": {},
   "outputs": [
    {
     "name": "stdout",
     "output_type": "stream",
     "text": [
      "Start listening to 192.168.193.104:8089\n"
     ]
    }
   ],
   "source": [
    "# RECEIVER\n",
    "import car\n",
    "import socket\n",
    "\n",
    "port = 8089\n",
    "\n",
    "sock = socket.socket(socket.AF_INET,\n",
    "                     socket.SOCK_DGRAM)\n",
    "sock.bind((ip, port))\n",
    "\n",
    "print(f'Start listening to {ip}:{port}')\n",
    "\n",
    "while True:\n",
    "    data, addr = sock.recvfrom(1024) # buffer\n",
    "    print(f\"received message: {data}\")\n",
    "    \n",
    "    if data == b'w':\n",
    "        forward(throttle)\n",
    "    elif data == b'a':\n",
    "        left_forward(throttle)\n",
    "    elif data == b's':\n",
    "        reverse(throttle)\n",
    "    elif data == b'd':\n",
    "        right_forward(throttle)"
   ]
  },
  {
   "cell_type": "code",
   "execution_count": null,
   "metadata": {},
   "outputs": [],
   "source": []
  }
 ],
 "metadata": {
  "kernelspec": {
   "display_name": "Python 3",
   "language": "python",
   "name": "python3"
  },
  "language_info": {
   "codemirror_mode": {
    "name": "ipython",
    "version": 3
   },
   "file_extension": ".py",
   "mimetype": "text/x-python",
   "name": "python",
   "nbconvert_exporter": "python",
   "pygments_lexer": "ipython3",
   "version": "3.7.3"
  }
 },
 "nbformat": 4,
 "nbformat_minor": 2
}
