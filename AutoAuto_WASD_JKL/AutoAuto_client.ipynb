{
 "cells": [
  {
   "cell_type": "code",
   "execution_count": 1,
   "id": "db202f28",
   "metadata": {},
   "outputs": [],
   "source": [
    "from car import motors\n",
    "import car\n",
    "import time\n",
    "from auto import console"
   ]
  },
  {
   "cell_type": "code",
   "execution_count": 2,
   "id": "07092860",
   "metadata": {},
   "outputs": [],
   "source": [
    "throttle = 25\n",
    "def forward(throttle):\n",
    "    motors.set_steering(0)\n",
    "    motors.set_throttle(throttle)\n",
    "    time.sleep(0.1)\n",
    "\n",
    "def reverse(throttle):\n",
    "    motors.set_steering(0)\n",
    "    motors.set_throttle(-throttle)\n",
    "    time.sleep(0.1)\n",
    "        \n",
    "def right_forward(throttle):\n",
    "    motors.set_steering(-30)\n",
    "    motors.set_throttle(throttle)\n",
    "    time.sleep(0.1)\n",
    "        \n",
    "def left_forward(throttle):\n",
    "    motors.set_steering(30)\n",
    "    motors.set_throttle(throttle)\n",
    "    time.sleep(0.1)\n",
    "        \n",
    "def right_reverse(throttle):\n",
    "    motors.set_steering(-30)\n",
    "    motors.set_throttle(-throttle)\n",
    "    time.sleep(0.1)\n",
    "        \n",
    "def left_reverse(throttle):\n",
    "    motors.set_steering(30)\n",
    "    motors.set_throttle(-throttle)\n",
    "    time.sleep(0.1)\n",
    "        \n",
    "def stop(throttle):\n",
    "    motors.set_steering(0)\n",
    "    motors.set_throttle(0)\n",
    "    time.sleep(0.1)\n",
    "\n",
    "\n",
    "\n",
    "    "
   ]
  },
  {
   "cell_type": "code",
   "execution_count": 3,
   "id": "7fc95e43",
   "metadata": {},
   "outputs": [],
   "source": [
    "# RECEIVER\n",
    "import car\n",
    "import socket\n",
    "\n",
    "ip = \"192.168.35.102\"\n",
    "port = 8089\n",
    "count = 0\n",
    "sock = socket.socket(socket.AF_INET,\n",
    "                     socket.SOCK_DGRAM)\n",
    "sock.bind((ip, port))\n",
    "\n",
    "print(f'Start listening to {ip}:{port}')\n",
    "\n",
    "while True:\n",
    "        %store -r d\n",
    "        if (d == 0):\n",
    "            data, addr = sock.recvfrom(1024) # buffer\n",
    "            print(f\"received message: {data}\")\n",
    "            if data == b'w':\n",
    "                forward(throttle)\n",
    "            elif data == b'a':\n",
    "                left_forward(throttle)\n",
    "            elif data == b's':\n",
    "                reverse(throttle)\n",
    "            elif data == b'd':\n",
    "                right_forward(throttle)\n",
    "            elif data == b'k':\n",
    "                stop(throttle)\n",
    "            elif data == b'j':\n",
    "                left_reverse(throttle)\n",
    "            elif data == b'l':\n",
    "                right_reverse(throttle)"
   ]
  }
 ],
 "metadata": {
  "kernelspec": {
   "display_name": "Python 3 (ipykernel)",
   "language": "python",
   "name": "python3"
  },
  "language_info": {
   "codemirror_mode": {
    "name": "ipython",
    "version": 3
   },
   "file_extension": ".py",
   "mimetype": "text/x-python",
   "name": "python",
   "nbconvert_exporter": "python",
   "pygments_lexer": "ipython3",
   "version": "3.9.12"
  }
 },
 "nbformat": 4,
 "nbformat_minor": 5
}
