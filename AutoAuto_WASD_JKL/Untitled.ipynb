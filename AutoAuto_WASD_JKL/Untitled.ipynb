{
 "cells": [
  {
   "cell_type": "code",
   "execution_count": 1,
   "metadata": {},
   "outputs": [],
   "source": [
    "import time\n",
    "import socket\n",
    "from keyboard import is_pressed\n",
    "\n",
    "ip = \"192.168.193.102\"\n",
    "port = 8089\n",
    "msg = b\" \"\n",
    "while True :\n",
    "    try:\n",
    "        if is_pressed('w'):\n",
    "            msg = b'w'\n",
    "        elif is_pressed('a'):\n",
    "            msg = b'a'\n",
    "        elif is_pressed('s'):\n",
    "            msg = b's'\n",
    "        elif is_pressed('d'):\n",
    "            msg = b'd'\n",
    "        elif is_pressed('j'):\n",
    "            msg = b'j'\n",
    "        elif is_pressed('k'):\n",
    "            msg = b'k'\n",
    "        elif is_pressed('l'):\n",
    "            msg = b'l'\n",
    "    except:\n",
    "        break\n",
    "        \n",
    "    \n",
    "\n",
    "    print(f'Sending {msg} to {ip}:{port}')\n",
    "\n",
    "    sock = socket.socket(socket.AF_INET,\n",
    "                            socket.SOCK_DGRAM)\n",
    "    sock.sendto(msg, (ip, port))\n",
    "    time.sleep(0.2)\n",
    "    msg = b' '\n"
   ]
  },
  {
   "cell_type": "code",
   "execution_count": 11,
   "metadata": {},
   "outputs": [
    {
     "name": "stdout",
     "output_type": "stream",
     "text": [
      "Captured 1 frame.\n",
      "Plotting 1 frame...\n",
      "Streamed frame of size 320x240.\n",
      "Found 0 pedestrians.\n",
      "Found 0 stop signs.\n",
      "Captured 1 frame.\n",
      "Plotting 1 frame...\n",
      "Streamed frame of size 320x240.\n",
      "Found 1 pedestrian.\n"
     ]
    }
   ],
   "source": [
    "import car\n",
    "from car.motors import set_throttle, set_steering, safe_forward_throttle\n",
    "\n",
    "while True:\n",
    "    frame = car.capture()\n",
    "    set_throttle(15)\n",
    "    car.plot(frame)\n",
    "    car.stream(frame, to_console=True)\n",
    "    if(car.detect_pedestrians(frame)):\n",
    "        car.honk()\n",
    "        break\n",
    "    if(car.detect_stop_signs(frame)):\n",
    "        d=1\n",
    "        break\n",
    "    else:\n",
    "        d=0"
   ]
  },
  {
   "cell_type": "code",
   "execution_count": null,
   "metadata": {},
   "outputs": [],
   "source": []
  },
  {
   "cell_type": "code",
   "execution_count": null,
   "metadata": {},
   "outputs": [],
   "source": []
  }
 ],
 "metadata": {
  "kernelspec": {
   "display_name": "Python 3",
   "language": "python",
   "name": "python3"
  },
  "language_info": {
   "codemirror_mode": {
    "name": "ipython",
    "version": 3
   },
   "file_extension": ".py",
   "mimetype": "text/x-python",
   "name": "python",
   "nbconvert_exporter": "python",
   "pygments_lexer": "ipython3",
   "version": "3.7.3"
  }
 },
 "nbformat": 4,
 "nbformat_minor": 5
}
