{
 "cells": [
  {
   "cell_type": "code",
   "execution_count": 1,
   "metadata": {},
   "outputs": [],
   "source": [
    "from car import motors\n",
    "import time"
   ]
  },
  {
   "cell_type": "code",
   "execution_count": 2,
   "id": "0dfad27c",
   "metadata": {},
   "outputs": [],
   "source": [
    " while True:\n",
    "    frame = car.capture()\n",
    "    car.plot(frame)\n",
    "    car.stream(frame, to_console=True)\n",
    "    if(car.detect_pedestrians(frame)):\n",
    "        car.honk()\n",
    "    if(car.detect_stop_signs(frame)):\n",
    "        console.print(\"Oops!, a STOP Sign!\")\n",
    "        console.print(\"Now i cant go!\")"
   ]
  }
 ],
 "metadata": {
  "kernelspec": {
   "display_name": "Python 3 (ipykernel)",
   "language": "python",
   "name": "python3"
  },
  "language_info": {
   "codemirror_mode": {
    "name": "ipython",
    "version": 3
   },
   "file_extension": ".py",
   "mimetype": "text/x-python",
   "name": "python",
   "nbconvert_exporter": "python",
   "pygments_lexer": "ipython3",
   "version": "3.9.12"
  }
 },
 "nbformat": 4,
 "nbformat_minor": 5
}
