{
 "cells": [
  {
   "cell_type": "code",
   "execution_count": 1,
   "metadata": {},
   "outputs": [],
   "source": [
    "from car import motors\n",
    "import time\n",
    "\n",
    "port = 8089\n",
    "ip = \"192.168.137.161\""
   ]
  },
  {
   "cell_type": "code",
   "execution_count": 2,
   "metadata": {},
   "outputs": [],
   "source": [
    "# def map_range(x, in_min, in_max, out_min, out_max):\n",
    "#   return (x - in_min) * (out_max - out_min) // (in_max - in_min) + out_min\n",
    "\n",
    "\n",
    "def map_steering_range(x):\n",
    "    streeing = (x - 0) * (30 + 30) // (255 - 0) -30\n",
    "#     if (streeing < 10 and streeing > -10 ):\n",
    "#         streeing = 0\n",
    "    return streeing\n",
    "def map_throttle__range(x):\n",
    "\n",
    "    throttle = (x - 0) * (30 + 30) // (255 - 0) -30\n",
    "    return throttle \n",
    "    \n",
    "def driveautoauto(x,y):\n",
    "    motors.set_steering(-x)\n",
    "    motors.set_throttle(-y)\n",
    "#     time.sleep(0.1)\n",
    "        \n",
    "    "
   ]
  },
  {
   "cell_type": "code",
   "execution_count": 3,
   "metadata": {},
   "outputs": [
    {
     "name": "stdout",
     "output_type": "stream",
     "text": [
      "-30\n",
      "-10\n",
      "11\n",
      "30\n"
     ]
    }
   ],
   "source": [
    "print(map_steering_range(0))\n",
    "print(map_steering_range(85))\n",
    "print(map_steering_range(175))\n",
    "print(map_steering_range(255))"
   ]
  },
  {
   "cell_type": "code",
   "execution_count": 4,
   "metadata": {},
   "outputs": [
    {
     "name": "stdout",
     "output_type": "stream",
     "text": [
      "-30\n",
      "-10\n",
      "11\n",
      "30\n"
     ]
    }
   ],
   "source": [
    "print(map_throttle__range(0))\n",
    "print(map_throttle__range(85))\n",
    "print(map_throttle__range(175))\n",
    "print(map_throttle__range(255))"
   ]
  },
  {
   "cell_type": "code",
   "execution_count": 5,
   "metadata": {},
   "outputs": [],
   "source": [
    "def forward(throttle):\n",
    "    motors.set_steering(0)\n",
    "    motors.set_throttle(throttle)\n",
    "    time.sleep(0.1)\n",
    "\n",
    "def reverse(throttle):\n",
    "    motors.set_steering(0)\n",
    "    motors.set_throttle(-throttle)\n",
    "    time.sleep(0.1)\n",
    "        \n",
    "def right_forward(throttle):\n",
    "    motors.set_steering(-30)\n",
    "    motors.set_throttle(throttle)\n",
    "    time.sleep(0.1)\n",
    "        \n",
    "def left_forward(throttle):\n",
    "    motors.set_steering(30)\n",
    "    motors.set_throttle(throttle)\n",
    "    time.sleep(0.1)\n",
    "        \n",
    "def right_reverse(throttle):\n",
    "    motors.set_steering(-30)\n",
    "    motors.set_throttle(-throttle)\n",
    "    time.sleep(0.1)\n",
    "        \n",
    "def left_reverse(throttle):\n",
    "    motors.set_steering(30)\n",
    "    motors.set_throttle(-throttle)\n",
    "    time.sleep(0.1)\n",
    "        \n",
    "def stop(throttle):\n",
    "    motors.set_steering(0)\n",
    "    motors.set_throttle(0)\n",
    "    time.sleep(0.1)"
   ]
  },
  {
   "cell_type": "code",
   "execution_count": 6,
   "metadata": {},
   "outputs": [
    {
     "name": "stdout",
     "output_type": "stream",
     "text": [
      "Start listening to 192.168.137.161:8089\n",
      "received message: b'\\x80\\x7f\\x80\\x7f\\x00\\x00'\n",
      "[128, 127, 128, 127, 0, 0]\n",
      "received message: b'\\x80\\x7f\\x80\\x7f\\x00\\x00'\n",
      "[128, 127, 128, 127, 0, 0]\n",
      "received message: b'\\x80\\x7f\\x80\\x7f\\x00\\x00'\n",
      "[128, 127, 128, 127, 0, 0]\n",
      "received message: b'\\x80\\x7f\\x80\\x7f\\x00\\x00'\n",
      "[128, 127, 128, 127, 0, 0]\n",
      "received message: b'\\x80\\x7f\\x80\\x7f\\x00\\x00'\n",
      "[128, 127, 128, 127, 0, 0]\n",
      "received message: b'\\x80\\x7f\\x80\\x7f\\x00\\x00'\n",
      "[128, 127, 128, 127, 0, 0]\n",
      "received message: b'\\x80\\x7f\\x80\\x7f\\x00\\x00'\n",
      "[128, 127, 128, 127, 0, 0]\n",
      "received message: b'\\x80\\x7f\\x80\\x7f\\x00\\x00'\n",
      "[128, 127, 128, 127, 0, 0]\n",
      "received message: b'\\x80\\x7f\\x80\\x7f\\x00\\x00'\n",
      "[128, 127, 128, 127, 0, 0]\n",
      "received message: b'\\x80\\x7f\\x80\\x7f\\x00\\x00'\n",
      "[128, 127, 128, 127, 0, 0]\n",
      "received message: b'\\x80\\x7f\\x80\\x7f\\x00\\x00'\n",
      "[128, 127, 128, 127, 0, 0]\n",
      "received message: b'\\x80\\x7f\\x80\\x7f\\x00\\x00'\n",
      "[128, 127, 128, 127, 0, 0]\n",
      "received message: b'\\x80\\x7f\\x80\\x7f\\x00\\x00'\n",
      "[128, 127, 128, 127, 0, 0]\n",
      "received message: b'\\x80\\x7f\\x80\\x7f\\x00\\x00'\n",
      "[128, 127, 128, 127, 0, 0]\n",
      "received message: b'\\x80\\x00\\x80\\x7f\\x00\\x00'\n",
      "[128, 0, 128, 127, 0, 0]\n",
      "received message: b'\\x80\\x00\\x80\\x7f\\x00\\x00'\n",
      "[128, 0, 128, 127, 0, 0]\n",
      "received message: b'\\x80\\x00\\x80\\x7f\\x00\\x00'\n",
      "[128, 0, 128, 127, 0, 0]\n",
      "received message: b'\\x80\\x7f\\x80\\x7f\\x00\\x00'\n",
      "[128, 127, 128, 127, 0, 0]\n",
      "received message: b'\\x80\\x7f\\x80\\x7f\\x00\\x00'\n",
      "[128, 127, 128, 127, 0, 0]\n",
      "received message: b'W\\xff\\x80\\x7f\\x00\\x00'\n",
      "[87, 255, 128, 127, 0, 0]\n",
      "received message: b'W\\xff\\x80\\x7f\\x00\\x00'\n",
      "[87, 255, 128, 127, 0, 0]\n",
      "received message: b'W\\xff\\x80\\x7f\\x00\\x00'\n",
      "[87, 255, 128, 127, 0, 0]\n",
      "received message: b'W\\xff\\x80\\x7f\\x00\\x00'\n",
      "[87, 255, 128, 127, 0, 0]\n",
      
      "received message: b'\\x80\\x7f\\x80\\x7f\\x00\\x00'\n",
      "[128, 127, 128, 127, 0, 0]\n",
      "received message: b'\\x80\\x7f\\x80\\x7f\\x00\\x00'\n",
      "[128, 127, 128, 127, 0, 0]\n",
      "received message: b'\\x80\\x7f\\x80\\x7f\\x00\\x00'\n",
      "[128, 127, 128, 127, 0, 0]\n",
      "received message: b'\\x80\\x7f\\x80\\x7f\\x00\\x00'\n",
      "[128, 127, 128, 127, 0, 0]\n",
      "received message: b'\\x80\\x7f\\x80\\x7f\\x00\\x00'\n",
      "[128, 127, 128, 127, 0, 0]\n",
      "received message: b'\\x80\\x7f\\x80\\x7f\\x00\\x00'\n",
      "[128, 127, 128, 127, 0, 0]\n",
      "received message: b'\\x80\\x7f\\x80\\x7f\\x00\\x00'\n",
      "[128, 127, 128, 127, 0, 0]\n",
      "received message: b'\\x80\\x7f\\x80\\x7f\\x00\\x00'\n",
      "[128, 127, 128, 127, 0, 0]\n",
      "received message: b'\\x80\\x7f\\x80\\x7f\\x00\\x00'\n",
      "[128, 127, 128, 127, 0, 0]\n",
      "received message: b'\\x80\\x7f\\x80\\x7f\\x00\\x00'\n",
      "[128, 127, 128, 127, 0, 0]\n",
      "received message: b'\\x80\\x7f\\x80\\x7f\\x00\\x00'\n",
      "[128, 127, 128, 127, 0, 0]\n",
      "received message: b'\\x80\\x7f\\x80\\x7f\\x00\\x00'\n",
      "[128, 127, 128, 127, 0, 0]\n",
      "received message: b'\\x80\\x7f\\x80\\x7f\\x00\\x00'\n",
      "[128, 127, 128, 127, 0, 0]\n",
      "received message: b'\\x80\\x7f\\x80\\x7f\\x00\\x00'\n",
      "[128, 127, 128, 127, 0, 0]\n",
      "received message: b'\\x80\\x7f\\x80\\x7f\\x00\\x00'\n",
      "[128, 127, 128, 127, 0, 0]\n",
      "received message: b'\\x80\\x7f\\x80\\x7f\\x00\\x00'\n",
      "[128, 127, 128, 127, 0, 0]\n",
      "received message: b'\\x80\\x7f\\x80\\x7f\\x00\\x00'\n",
      "[128, 127, 128, 127, 0, 0]\n",
      "received message: b'\\x80\\x7f\\x80\\x7f\\x00\\x00'\n",
      "[128, 127, 128, 127, 0, 0]\n",
      "received message: b'\\x80\\x7f\\x80\\x7f\\x00\\x00'\n",
      "[128, 127, 128, 127, 0, 0]\n"
     ]
    }
   ],
   "source": [
    "\n",
    "# RECEIVER\n",
    "import car\n",
    "import socket\n",
    "import pickle\n",
    "\n",
    "\n",
    "\n",
    "sock = socket.socket(socket.AF_INET,\n",
    "                     socket.SOCK_DGRAM)\n",
    "sock.bind((ip, port))\n",
    "\n",
    "print(f'Start listening to {ip}:{port}')\n",
    "arr =[]\n",
    "while True:\n",
    "    data, addr = sock.recvfrom(1024) # buffer\n",
    "    print(f\"received message: {data}\")\n",
    "    arr = list(data)\n",
    "    print (arr)\n",
    "    \n",
    "    driveautoauto(map_steering_range(arr[0]),map_throttle__range(arr[1]))\n",
    "    if (arr[5] > 100):\n",
    "        car.honk()\n",
   ]
  },
  {
   "cell_type": "code",
   "execution_count": null,
   "metadata": {},
   "outputs": [],
   "source": []
  },
  {
   "cell_type": "code",
   "execution_count": null,
   "metadata": {},
   "outputs": [],
   "source": []
  }
 ],
 "metadata": {
  "kernelspec": {
   "display_name": "Python 3.9.13 64-bit (microsoft store)",
   "language": "python",
   "name": "python3"
  },
  "language_info": {
   "codemirror_mode": {
    "name": "ipython",
    "version": 3
   },
   "file_extension": ".py",
   "mimetype": "text/x-python",
   "name": "python",
   "nbconvert_exporter": "python",
   "pygments_lexer": "ipython3",
   "version": "3.9.13"
  },
  "vscode": {
   "interpreter": {
    "hash": "bc557b74f5c7d96f3a4fff2167a95a4252e316909755ef10c67da981ac2e9136"
   }
  }
 },
 "nbformat": 4,
 "nbformat_minor": 2
}
